{
 "cells": [
  {
   "cell_type": "markdown",
   "metadata": {},
   "source": [
    "# 1 -  Introdução a Linguagem Python "
   ]
  },
  {
   "attachments": {
    "image.png": {
     "image/png": "[encoded data removed]"
    }
   },
   "cell_type": "markdown",
   "metadata": {},
   "source": [
    "Olá Pessoal, me chamo Rodrigo e irei, atráves desse tópico, falar um pouco sobre a Linguagem de programação mais famosa do mundo, o Python! \n",
    "\n",
    "Python é um exemplo de linguagem de programação de alto nível, que muito provavelmente você já tenha ouvido falar desse termo e assim como C++, php e Java, python entra no hal das [linguagens de alto nivel](https://www.infoescola.com/engenharia-de-software/linguagem-de-programacao-de-alto-nivel/)\n",
    "\n",
    "Caso queira aprender mais da história do Python [clique aqui](https://pt.wikipedia.org/wiki/Python#Hist%C3%B3ria). \n",
    "\n",
    "Como diz o excelente livro iterativo \"[Como Pensar Como um Cientista da Computação](https://panda.ime.usp.br/pensepy/static/pensepy/index.html)\", onde recomento firmemente a leitura: \"Programas escritos em linguagens de alto nível precisam ser processados antes que possam rodar\" ou seja, precisamos de uma compilador, um programinha que interpreta a linguagem para que o computador possa entender, em outras palavras, o compilador transforma uma linguagem de alto nível para uma [linguagem de baixo nível](https://www.sos.com.br/noticias/tecnologia/o-que-e-linguagem-de-programacao-de-alto-nivel-e-de-baixo-nivel). Em resumo, o processo funciona assim: \n",
    "\n",
    "![image.png](attachment:image.png)\n",
    "\n",
    "Onde o código fonte é onde estão as linhas escritas de programação, o interpretador é o responsável por executar linha a linha do código e a saída é o reultado do seu código. \n",
    "\n"
   ]
  },
  {
   "cell_type": "markdown",
   "metadata": {},
   "source": [
    "Existem duas formas para de escrita de um código python, atráves de linha de comando o chamado shell mode, ou modeo script.\n",
    "O modeo linha de comando o programa necessita de um compiador onde voce pode executar na mesma hora o seu código atrávés de um terminal. \n",
    "\n",
    "Nesse curso introdutório iremos usar o [Jupyter Notebook](https://medium.com/horadecodar/como-instalar-o-jupyter-notebook-windows-e-linux-20701fc583c) para executarmos os nossos códigos. Peço que cliquem no link destacado para obterem um passo a passo para instalação do jupyter. "
   ]
  },
  {
   "cell_type": "markdown",
   "metadata": {},
   "source": [
    "O Jupyter é dividido em celulas, onde usaremos cada uma delas para compilar os nossos códigos. Vamos criar um exemplo simples de código na celula a seguir: "
   ]
  },
  {
   "cell_type": "code",
   "execution_count": 2,
   "metadata": {},
   "outputs": [
    {
     "name": "stdout",
     "output_type": "stream",
     "text": [
      "Meu primeiro programa soma os numeros 2 e 3:\n",
      "5\n"
     ]
    }
   ],
   "source": [
    "print(\"Meu primeiro programa soma os numeros 2 e 3:\")\n",
    "print(2 + 3)"
   ]
  },
  {
   "cell_type": "code",
   "execution_count": 3,
   "metadata": {},
   "outputs": [
    {
     "name": "stdout",
     "output_type": "stream",
     "text": [
      "Olá, Mundo\n"
     ]
    }
   ],
   "source": [
    "print(\"Olá, Mundo\")"
   ]
  },
  {
   "cell_type": "markdown",
   "metadata": {},
   "source": [
    "Note que usamos a função \"print()\" para escrever na saída o resultado que queremos, no caso a soma de 2 + 3."
   ]
  },
  {
   "cell_type": "markdown",
   "metadata": {},
   "source": [
    "# 2 - Tipos de dados, literais e variáveis"
   ]
  },
  {
   "cell_type": "markdown",
   "metadata": {},
   "source": [
    "Agora vamo falar um pouco sobre tipos de dados e variáveis no Python, Let's code!\n",
    "\n"
   ]
  },
  {
   "cell_type": "markdown",
   "metadata": {},
   "source": [
    "Para começarmos vamos definir alguns termos: \n",
    "\n",
    "Valor é aquilo que definimos como objeto ou o que um program manipula, como no nosso exemplo da continha de \"2 + 3\" ou no printo do \"Olá Mundo\", onde são definidos como valore ou objetos. \n",
    "\n",
    "Esses objetos são classificados de acordo com o seu tipo de dado, ou a sua classe, por exemplo: 4 é um inteiro e \"Olá, mundo\" é uma string. Veja mais sobre tipos de dados nesse [link](https://pt.wikiversity.org/wiki/Introdu%C3%A7%C3%A3o_ao_Python/Tipos_e_operadores).\n",
    "\n",
    "Vamos usar a nossa primeira função no python, a chamada \"type\". Ela é usada para discriminarmos o tipo de dados de uma variável, let's code! "
   ]
  },
  {
   "cell_type": "code",
   "execution_count": 10,
   "metadata": {},
   "outputs": [
    {
     "name": "stdout",
     "output_type": "stream",
     "text": [
      "<class 'str'>\n",
      "<class 'int'>\n"
     ]
    }
   ],
   "source": [
    "print(type(\"Ola, mundo!\"))\n",
    "print(type(17))"
   ]
  },
  {
   "cell_type": "markdown",
   "metadata": {},
   "source": [
    "Onde 'str' é a classe string e 'int' pe a classe dos números inteiros. \n",
    "\n",
    "Outro tipo de classe é a chamada \"Float\" que significa Ponto flutuante ou floating-point. Ela discrimina os númeoros com ponto decimal, como vemos no exemploo abaixo: "
   ]
  },
  {
   "cell_type": "code",
   "execution_count": 11,
   "metadata": {},
   "outputs": [
    {
     "name": "stdout",
     "output_type": "stream",
     "text": [
      "<class 'float'>\n"
     ]
    }
   ],
   "source": [
    "print(type(5.6))"
   ]
  },
  {
   "cell_type": "markdown",
   "metadata": {},
   "source": [
    "As clases chamadas de strings são reconhecidas pelo python quando acrescentamos aspas no valor da variável. Elas podem ser aspas simples ' ou duplas \", como mostra o exemplo abaixo: "
   ]
  },
  {
   "cell_type": "code",
   "execution_count": 14,
   "metadata": {},
   "outputs": [
    {
     "name": "stdout",
     "output_type": "stream",
     "text": [
      "<class 'str'>\n",
      "<class 'str'>\n",
      "<class 'str'>\n",
      "<class 'str'>\n"
     ]
    }
   ],
   "source": [
    "print(type('Esse e um string.') )\n",
    "print(type(\"E esse tambem eh um string.\") )\n",
    "print(type(\"\"\"e esse.\"\"\") )\n",
    "print(type('''e mesmo esse...''') )\n"
   ]
  },
  {
   "cell_type": "code",
   "execution_count": null,
   "metadata": {},
   "outputs": [],
   "source": []
  }
 ],
 "metadata": {
  "kernelspec": {
   "display_name": "Python 3",
   "language": "python",
   "name": "python3"
  },
  "language_info": {
   "codemirror_mode": {
    "name": "ipython",
    "version": 3
   },
   "file_extension": ".py",
   "mimetype": "text/x-python",
   "name": "python",
   "nbconvert_exporter": "python",
   "pygments_lexer": "ipython3",
   "version": "3.7.9"
  }
 },
 "nbformat": 4,
 "nbformat_minor": 4
}
