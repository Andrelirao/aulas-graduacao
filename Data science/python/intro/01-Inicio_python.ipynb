{
  "nbformat": 4,
  "nbformat_minor": 0,
  "metadata": {
    "colab": {
      "name": "Inicio python.ipynb",
      "provenance": [],
      "toc_visible": true
    },
    "kernelspec": {
      "name": "python3",
      "display_name": "Python 3"
    }
  },
  "cells": [
    {
      "cell_type": "markdown",
      "metadata": {
        "id": "86tO366OL-Jh"
      },
      "source": [
        "#Python Comentários\n",
        "\n",
        "Comentários podem ser usados para explicar o código Python.\n",
        "\n"
      ]
    },
    {
      "cell_type": "code",
      "metadata": {
        "id": "rJMqjaWJMTir",
        "colab": {
          "base_uri": "https://localhost:8080/",
          "height": 34
        },
        "outputId": "f927c41b-caed-4b45-a917-38cf74b83c1e"
      },
      "source": [
        "#This is a comment\n",
        "print(\"Hello, World!\")"
      ],
      "execution_count": null,
      "outputs": [
        {
          "output_type": "stream",
          "text": [
            "Hello, World!\n"
          ],
          "name": "stdout"
        }
      ]
    },
    {
      "cell_type": "markdown",
      "metadata": {
        "id": "QMfnUNxwMeBD"
      },
      "source": [
        "\n",
        "Comentários podem ser colocados no final da linha, e o Pytfon irá ignorar o restnate da linha:\n"
      ]
    },
    {
      "cell_type": "code",
      "metadata": {
        "id": "YfzLyd6nMvfr",
        "colab": {
          "base_uri": "https://localhost:8080/",
          "height": 34
        },
        "outputId": "7ceed64a-7e6a-4705-f393-6979e658a973"
      },
      "source": [
        "print(\"Hello, World!\") #This is a comment"
      ],
      "execution_count": null,
      "outputs": [
        {
          "output_type": "stream",
          "text": [
            "Hello, World!\n"
          ],
          "name": "stdout"
        }
      ]
    },
    {
      "cell_type": "markdown",
      "metadata": {
        "id": "fplVuKLHM5xU"
      },
      "source": [
        "Multi Comentários\n",
        "\n",
        "Python não tem sintaxe para várias linhas de comentário. Para adicionar várias linhas com comentário vocÊ pode inserir # para cada linha:\n",
        "\n"
      ]
    },
    {
      "cell_type": "code",
      "metadata": {
        "id": "WPnjzLIrNYKc",
        "colab": {
          "base_uri": "https://localhost:8080/",
          "height": 34
        },
        "outputId": "a6678a3d-dc52-433e-bb3d-70828e57e770"
      },
      "source": [
        "#This is a comment\n",
        "#written in\n",
        "#more than just one line\n",
        "print(\"Hello, World!\")"
      ],
      "execution_count": null,
      "outputs": [
        {
          "output_type": "stream",
          "text": [
            "Hello, World!\n"
          ],
          "name": "stdout"
        }
      ]
    },
    {
      "cell_type": "markdown",
      "metadata": {
        "id": "gSJgN4A-NiZy"
      },
      "source": [
        "#Variáveis Python \n",
        "\n",
        "Criando variáveis\n",
        "Variáveis ​​são contêineres para armazenar valores de dados. Diferente de outras linguagens de programação, o Python não tem comando para declarar uma variável. Uma variável é criada no momento em que você atribui um valor a ela."
      ]
    },
    {
      "cell_type": "code",
      "metadata": {
        "id": "yCpIMYgbN5o6",
        "colab": {
          "base_uri": "https://localhost:8080/",
          "height": 231
        },
        "outputId": "a948270f-e70c-4eb5-bcc1-83e7cfdbe0a8"
      },
      "source": [
        "Example\n",
        "x = 5\n",
        "y = \"John\"\n",
        "print(x)\n",
        "print(y)"
      ],
      "execution_count": null,
      "outputs": [
        {
          "output_type": "error",
          "ename": "NameError",
          "evalue": "ignored",
          "traceback": [
            "\u001b[0;31m---------------------------------------------------------------------------\u001b[0m",
            "\u001b[0;31mNameError\u001b[0m                                 Traceback (most recent call last)",
            "\u001b[0;32m<ipython-input-4-ab7fa5b21165>\u001b[0m in \u001b[0;36m<module>\u001b[0;34m()\u001b[0m\n\u001b[0;32m----> 1\u001b[0;31m \u001b[0mExample\u001b[0m\u001b[0;34m\u001b[0m\u001b[0;34m\u001b[0m\u001b[0m\n\u001b[0m\u001b[1;32m      2\u001b[0m \u001b[0mx\u001b[0m \u001b[0;34m=\u001b[0m \u001b[0;36m5\u001b[0m\u001b[0;34m\u001b[0m\u001b[0;34m\u001b[0m\u001b[0m\n\u001b[1;32m      3\u001b[0m \u001b[0my\u001b[0m \u001b[0;34m=\u001b[0m \u001b[0;34m\"John\"\u001b[0m\u001b[0;34m\u001b[0m\u001b[0;34m\u001b[0m\u001b[0m\n\u001b[1;32m      4\u001b[0m \u001b[0mprint\u001b[0m\u001b[0;34m(\u001b[0m\u001b[0mx\u001b[0m\u001b[0;34m)\u001b[0m\u001b[0;34m\u001b[0m\u001b[0;34m\u001b[0m\u001b[0m\n\u001b[1;32m      5\u001b[0m \u001b[0mprint\u001b[0m\u001b[0;34m(\u001b[0m\u001b[0my\u001b[0m\u001b[0;34m)\u001b[0m\u001b[0;34m\u001b[0m\u001b[0;34m\u001b[0m\u001b[0m\n",
            "\u001b[0;31mNameError\u001b[0m: name 'Example' is not defined"
          ]
        }
      ]
    },
    {
      "cell_type": "markdown",
      "metadata": {
        "id": "dEIhsF6lOGCC"
      },
      "source": [
        "As variáveis ​​não precisam ser declaradas com nenhum tipo específico e podem até mudar de tipo após serem definidas."
      ]
    },
    {
      "cell_type": "code",
      "metadata": {
        "id": "hKk17aMhOHOy",
        "colab": {
          "base_uri": "https://localhost:8080/",
          "height": 34
        },
        "outputId": "666a8f1f-5dae-4237-ff3b-7454c7f04d7b"
      },
      "source": [
        "x = 4 # x is of type int\n",
        "x = \"Sally\" # x is now of type str\n",
        "print(x)"
      ],
      "execution_count": null,
      "outputs": [
        {
          "output_type": "stream",
          "text": [
            "Sally\n"
          ],
          "name": "stdout"
        }
      ]
    },
    {
      "cell_type": "markdown",
      "metadata": {
        "id": "93TnHqFuOT-Z"
      },
      "source": [
        "As variáveis ​​de sequência podem ser declaradas usando aspas simples ou duplas:\n"
      ]
    },
    {
      "cell_type": "code",
      "metadata": {
        "id": "1j7aiAGbOU6D"
      },
      "source": [
        "x = \"John\"\n",
        "# is the same as\n",
        "x = 'John'"
      ],
      "execution_count": null,
      "outputs": []
    },
    {
      "cell_type": "markdown",
      "metadata": {
        "id": "sl67FoAtOgth"
      },
      "source": [
        "#Tipos de dados Python \n",
        "\n",
        "Na programação, o tipo de dados é um conceito importante. Variáveis ​​podem armazenar dados de tipos diferentes e tipos diferentes podem fazer coisas diferentes. O Python possui os seguintes tipos de dados embutidos por padrão, nestas categorias:\n",
        "\n",
        "Text Type:\tstr\n",
        "Numeric Types:\tint, float, complex\n",
        "Sequence Types:\tlist, tuple, range\n",
        "Mapping Type:\tdict\n",
        "Set Types:\tset, frozenset\n",
        "Boolean Type:\tbool\n",
        "Binary Types:\tbytes, bytearray, memoryview\n",
        "\n"
      ]
    },
    {
      "cell_type": "markdown",
      "metadata": {
        "id": "xfbYNXFdO91J"
      },
      "source": [
        "\n",
        "Obtendo o tipo de dados\n",
        "Você pode obter o tipo de dados de qualquer objeto usando a função type ():"
      ]
    },
    {
      "cell_type": "code",
      "metadata": {
        "id": "UTg5Ihn5PAQ6",
        "colab": {
          "base_uri": "https://localhost:8080/",
          "height": 34
        },
        "outputId": "ebd68a24-5e0e-44d2-8277-a20e29995505"
      },
      "source": [
        "x = 5\n",
        "print(type(x))"
      ],
      "execution_count": null,
      "outputs": [
        {
          "output_type": "stream",
          "text": [
            "<class 'int'>\n"
          ],
          "name": "stdout"
        }
      ]
    },
    {
      "cell_type": "markdown",
      "metadata": {
        "id": "vO3K8Un6PKVZ"
      },
      "source": [
        "Definindo o tipo de dados\n",
        "No Python, o tipo de dados é definido quando você atribui um valor a uma variável:"
      ]
    },
    {
      "cell_type": "code",
      "metadata": {
        "id": "nvxNHV6DPLkJ"
      },
      "source": [
        "x = \"Hello World\"\tstr\t\n",
        "x = 20\tint\t\n",
        "x = 20.5\tfloat\t\n",
        "x = 1j\tcomplex\t\n",
        "x = [\"apple\", \"banana\", \"cherry\"]\tlist\t\n",
        "x = (\"apple\", \"banana\", \"cherry\")\ttuple\t\n",
        "x = range(6)\trange\t\n",
        "x = {\"name\" : \"John\", \"age\" : 36}\tdict\t\n",
        "x = {\"apple\", \"banana\", \"cherry\"}\tset\t\n",
        "x = frozenset({\"apple\", \"banana\", \"cherry\"})\tfrozenset\t\n",
        "x = True\tbool\t\n",
        "x = b\"Hello\"\tbytes\t\n",
        "x = bytearray(5)\tbytearray\t\n",
        "x = memoryview(bytes(5)) memoryview"
      ],
      "execution_count": null,
      "outputs": []
    },
    {
      "cell_type": "markdown",
      "metadata": {
        "id": "lQkj8Uw9PrDt"
      },
      "source": [
        "#Python If ... Else\n",
        "\n",
        "O Python suporta as condições lógicas usuais da matemática:\n",
        "\n",
        "É igual a: a == b\n",
        "\n",
        "Diferente: a! = B\n",
        "\n",
        "Menor que: a <b\n",
        "\n",
        "Menor ou igual a: a <= b\n",
        "\n",
        "Maior que: a> b\n",
        "\n",
        "Maior ou igual a: a> = b\n",
        "\n",
        "Essas condições podem ser usadas de várias maneiras, mais comumente em \"instruções if\" e loops.\n",
        "\n",
        "Uma \"declaração if\" é escrita usando a palavra-chave if."
      ]
    },
    {
      "cell_type": "code",
      "metadata": {
        "id": "oCzY8MiNP6sx",
        "colab": {
          "base_uri": "https://localhost:8080/",
          "height": 34
        },
        "outputId": "404bd22c-0676-4708-91c4-92e40542077f"
      },
      "source": [
        "a = 33\n",
        "b = 200\n",
        "if b > a:\n",
        "  print(\"b is greater than a\")"
      ],
      "execution_count": null,
      "outputs": [
        {
          "output_type": "stream",
          "text": [
            "b is greater than a\n"
          ],
          "name": "stdout"
        }
      ]
    },
    {
      "cell_type": "markdown",
      "metadata": {
        "id": "l5mtYw08P8V6"
      },
      "source": [
        "Neste exemplo, usamos duas variáveis, a e b, que são usadas como parte da instrução if para testar se b é maior que a. Como a é 33 e b é 200, sabemos que 200 é maior que 33 e, portanto, imprimimos na tela que \"b é maior que a\"."
      ]
    },
    {
      "cell_type": "markdown",
      "metadata": {
        "id": "PlWQmzkwQH6C"
      },
      "source": [
        "\n",
        "Indentação\n",
        "\n",
        "O Python conta com recuo (espaço em branco no início de uma linha) para definir o escopo no código. Outras linguagens de programação costumam usar colchetes para esse fim."
      ]
    },
    {
      "cell_type": "code",
      "metadata": {
        "id": "NBRd8GGrQUlL",
        "colab": {
          "base_uri": "https://localhost:8080/",
          "height": 129
        },
        "outputId": "a95f4ad9-b8f8-4bee-88ec-ee5c1fe9bad5"
      },
      "source": [
        "a = 33\n",
        "b = 200\n",
        "if b > a:\n",
        "print(\"b is greater than a\") # you will get an error"
      ],
      "execution_count": null,
      "outputs": [
        {
          "output_type": "error",
          "ename": "IndentationError",
          "evalue": "ignored",
          "traceback": [
            "\u001b[0;36m  File \u001b[0;32m\"<ipython-input-1-4276c1871af7>\"\u001b[0;36m, line \u001b[0;32m4\u001b[0m\n\u001b[0;31m    print(\"b is greater than a\") # you will get an error\u001b[0m\n\u001b[0m        ^\u001b[0m\n\u001b[0;31mIndentationError\u001b[0m\u001b[0;31m:\u001b[0m expected an indented block\n"
          ]
        }
      ]
    },
    {
      "cell_type": "markdown",
      "metadata": {
        "id": "L-Yb0HiaQeuZ"
      },
      "source": [
        "Elif\n",
        "\n",
        "A palavra-chave elif é uma forma de pythons de dizer \"se as condições anteriores não fossem verdadeiras, tente esta condição\"."
      ]
    },
    {
      "cell_type": "code",
      "metadata": {
        "id": "iRRJvBhxQgdy",
        "colab": {
          "base_uri": "https://localhost:8080/",
          "height": 34
        },
        "outputId": "549ae9c7-ebd8-42fb-e19d-8d47c9a430b6"
      },
      "source": [
        "a = 33\n",
        "b = 33\n",
        "if b > a:\n",
        "  print(\"b is greater than a\")\n",
        "elif a == b:\n",
        "  print(\"a and b are equal\")"
      ],
      "execution_count": null,
      "outputs": [
        {
          "output_type": "stream",
          "text": [
            "a and b are equal\n"
          ],
          "name": "stdout"
        }
      ]
    },
    {
      "cell_type": "markdown",
      "metadata": {
        "id": "YrwCGZpsQn0E"
      },
      "source": [
        "Else\n",
        "\n",
        "A palavra-chave else captura qualquer coisa que não seja capturada pelas condições anteriores."
      ]
    },
    {
      "cell_type": "code",
      "metadata": {
        "id": "WLBntXYFQq7D",
        "colab": {
          "base_uri": "https://localhost:8080/",
          "height": 34
        },
        "outputId": "6e41a121-a998-4c65-9e24-6a72cb9086a2"
      },
      "source": [
        "a = 200\n",
        "b = 33\n",
        "if b > a:\n",
        "  print(\"b is greater than a\")\n",
        "elif a == b:\n",
        "  print(\"a and b are equal\")\n",
        "else:\n",
        "  print(\"a is greater than b\")"
      ],
      "execution_count": null,
      "outputs": [
        {
          "output_type": "stream",
          "text": [
            "a is greater than b\n"
          ],
          "name": "stdout"
        }
      ]
    },
    {
      "cell_type": "markdown",
      "metadata": {
        "id": "-Goz0NrHQ3tT"
      },
      "source": [
        "#Python While Loops\n",
        "\n",
        "O Python possui dois comandos primitivos de loop:\n",
        "\n",
        "while loops\n",
        "\n",
        "for loops\n",
        "\n"
      ]
    },
    {
      "cell_type": "markdown",
      "metadata": {
        "id": "OTMC3PdsRErR"
      },
      "source": [
        "The while Loop\n",
        "\n",
        "Com o loop while, podemos executar um conjunto de instruções, desde que uma condição seja verdadeira."
      ]
    },
    {
      "cell_type": "code",
      "metadata": {
        "id": "hnevRup4RKfr",
        "colab": {
          "base_uri": "https://localhost:8080/",
          "height": 102
        },
        "outputId": "c32ae39e-5d33-4890-931a-6116062be905"
      },
      "source": [
        "i = 1\n",
        "while i < 6:\n",
        "  print(i)\n",
        "  i += 1"
      ],
      "execution_count": null,
      "outputs": [
        {
          "output_type": "stream",
          "text": [
            "1\n",
            "2\n",
            "3\n",
            "4\n",
            "5\n"
          ],
          "name": "stdout"
        }
      ]
    },
    {
      "cell_type": "markdown",
      "metadata": {
        "id": "IljpiEv6RNx4"
      },
      "source": [
        "#Python For Loops\n",
        "\n",
        "Um for loop é usado para iterar sobre uma sequência (ou seja, uma lista, uma tupla, um dicionário, um conjunto ou uma string).\n",
        "\n",
        "Isso é menos parecido com a palavra-chave for em outras linguagens de programação e funciona mais como um método iterador, como encontrado em outras linguagens de programação orientadas a objetos.\n",
        "\n",
        "Com o for loop, podemos executar um conjunto de instruções, uma vez para cada item de uma lista, tupla, conjunto etc."
      ]
    },
    {
      "cell_type": "code",
      "metadata": {
        "id": "dv-o5ul2Rngy",
        "colab": {
          "base_uri": "https://localhost:8080/",
          "height": 68
        },
        "outputId": "55ba74fa-e3ca-4eb9-e2b3-625025eb12e8"
      },
      "source": [
        "fruits = [\"apple\", \"banana\", \"cherry\"]\n",
        "for x in fruits:\n",
        "  print(x)"
      ],
      "execution_count": null,
      "outputs": [
        {
          "output_type": "stream",
          "text": [
            "apple\n",
            "banana\n",
            "cherry\n"
          ],
          "name": "stdout"
        }
      ]
    },
    {
      "cell_type": "markdown",
      "metadata": {
        "id": "HMm6_2IoRz1h"
      },
      "source": [
        "#Funções Python \n",
        "\n",
        "Uma função é um bloco de código que só é executado quando é chamado.\n",
        "\n",
        "Você pode passar dados, conhecidos como parâmetros, para uma função.\n",
        "\n",
        "Uma função pode retornar dados como resultado."
      ]
    },
    {
      "cell_type": "markdown",
      "metadata": {
        "id": "xKwc4EYCSLuJ"
      },
      "source": [
        "##*Criando* uma Função\n",
        "\n",
        "No Python, uma função é definida usando a palavra-chave def:"
      ]
    },
    {
      "cell_type": "code",
      "metadata": {
        "id": "GlJ8Wyy7SNfp"
      },
      "source": [
        "def my_function():\n",
        "  print(\"Hello from a function\")"
      ],
      "execution_count": null,
      "outputs": []
    },
    {
      "cell_type": "markdown",
      "metadata": {
        "id": "nUhMdqHgSTtg"
      },
      "source": [
        "Chamando uma função\n",
        "\n",
        "Para chamar uma função, use o nome da função seguido por parênteses:"
      ]
    },
    {
      "cell_type": "code",
      "metadata": {
        "id": "QIqDru8DSU_I",
        "colab": {
          "base_uri": "https://localhost:8080/",
          "height": 34
        },
        "outputId": "2538fe2c-27ad-4916-c688-ddc203f8c9c7"
      },
      "source": [
        "def my_function():\n",
        "  print(\"Hello from a function\")\n",
        "\n",
        "my_function()"
      ],
      "execution_count": null,
      "outputs": [
        {
          "output_type": "stream",
          "text": [
            "Hello from a function\n"
          ],
          "name": "stdout"
        }
      ]
    },
    {
      "cell_type": "markdown",
      "metadata": {
        "id": "3wD5TXL5SdZi"
      },
      "source": [
        "Argumentos\n",
        "\n",
        "As informações podem ser passadas para funções como argumentos.\n",
        "\n",
        "Os argumentos são especificados após o nome da função, entre parênteses. Você pode adicionar quantos argumentos quiser, basta separá-los com uma vírgula.\n",
        "\n",
        "O exemplo a seguir possui uma função com um argumento (fname). Quando a função é chamada, passamos um primeiro nome, que é usado dentro da função para imprimir o nome completo:"
      ]
    },
    {
      "cell_type": "code",
      "metadata": {
        "id": "ZgB_Bx-VSiXR",
        "colab": {
          "base_uri": "https://localhost:8080/",
          "height": 68
        },
        "outputId": "e8b6e709-0963-4740-ffff-3b3e5761bd82"
      },
      "source": [
        "def my_function(fname):\n",
        "  print(fname + \" Refsnes\")\n",
        "\n",
        "my_function(\"Emil\")\n",
        "my_function(\"Tobias\")\n",
        "my_function(\"Linus\")"
      ],
      "execution_count": null,
      "outputs": [
        {
          "output_type": "stream",
          "text": [
            "Emil Refsnes\n",
            "Tobias Refsnes\n",
            "Linus Refsnes\n"
          ],
          "name": "stdout"
        }
      ]
    },
    {
      "cell_type": "markdown",
      "metadata": {
        "id": "RAm0WQY6Su08"
      },
      "source": [
        "#Python Try Except\n",
        "\n",
        "O bloco try permite testar um bloco de código quanto a erros.\n",
        "\n",
        "O bloco except permite que você lide com o erro.\n",
        "\n",
        "O bloco finally permite executar o código, independentemente do resultado dos blocos try- e exceto."
      ]
    },
    {
      "cell_type": "markdown",
      "metadata": {
        "id": "xaEceLLHTBwx"
      },
      "source": [
        "Manipulação de exceção\n",
        "\n",
        "Quando ocorre um erro, ou exceção, como chamamos, o Python normalmente para e gera uma mensagem de erro.\n",
        "\n",
        "Essas exceções podem ser tratadas usando a instrução try:"
      ]
    },
    {
      "cell_type": "code",
      "metadata": {
        "id": "035el12KTMlK",
        "colab": {
          "base_uri": "https://localhost:8080/",
          "height": 34
        },
        "outputId": "4363a171-b051-4068-d53b-345559e76415"
      },
      "source": [
        "try:\n",
        "  print(x)\n",
        "except:\n",
        "  print(\"An exception occurred\")"
      ],
      "execution_count": null,
      "outputs": [
        {
          "output_type": "stream",
          "text": [
            "cherry\n"
          ],
          "name": "stdout"
        }
      ]
    },
    {
      "cell_type": "markdown",
      "metadata": {
        "id": "PryQ1khITVqQ"
      },
      "source": [
        "\n",
        "Como o bloco try gera um erro, o bloco except será executado.\n",
        "\n",
        "Sem o bloco try, o programa falha e gera um erro:"
      ]
    },
    {
      "cell_type": "code",
      "metadata": {
        "id": "QrOxqrxzTbP6",
        "colab": {
          "base_uri": "https://localhost:8080/",
          "height": 34
        },
        "outputId": "5957b788-9cde-4c17-8ea2-3a859f3436cc"
      },
      "source": [
        "print(x)"
      ],
      "execution_count": null,
      "outputs": [
        {
          "output_type": "stream",
          "text": [
            "cherry\n"
          ],
          "name": "stdout"
        }
      ]
    }
  ]
}